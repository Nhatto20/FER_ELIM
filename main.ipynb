{
 "cells": [
  {
   "cell_type": "code",
   "execution_count": null,
   "metadata": {},
   "outputs": [],
   "source": [
    "import os\n",
    "import torch\n",
    "import torch.nn as nn\n",
    "import torch.optim as optim\n",
    "from torch.utils.data import Dataset, DataLoader\n",
    "from PIL import Image\n",
    "import json\n",
    "from torchvision import transforms\n",
    "from models import encoder_AL, regressor_AL, load_ERM_FC\n",
    "from sklearn.model_selection import train_test_split\n",
    "import matplotlib.pyplot as plt"
   ]
  },
  {
   "cell_type": "code",
   "execution_count": 2,
   "metadata": {},
   "outputs": [],
   "source": [
    "class VADataset(Dataset):\n",
    "    def __init__(self, root_dir, transform=None):\n",
    "        \"\"\"\n",
    "        root_dir: Directory containing subfolders with images and json files (e.g., 001 to 025)\n",
    "        transform: Image transformations\n",
    "        \"\"\"\n",
    "        self.root_dir = root_dir\n",
    "        self.transform = transform\n",
    "        self.data = []  # To store image paths and corresponding valence-arousal data\n",
    "\n",
    "        # Loop over subfolders (001 to 025)\n",
    "        for folder_name in sorted(os.listdir(root_dir)):\n",
    "            folder_path = os.path.join(root_dir, folder_name)\n",
    "            print(f\"Processing folder: {folder_path}\")\n",
    "            if os.path.isdir(folder_path):\n",
    "                json_path = os.path.join(folder_path, f'{folder_name}.json')\n",
    "                \n",
    "                # Kiểm tra nếu tệp JSON tồn tại\n",
    "                if not os.path.exists(json_path):\n",
    "                    print(f\"Tệp JSON không tồn tại: {json_path}\")\n",
    "                    continue\n",
    "                \n",
    "                print(f\"Loading JSON file: {json_path}\")\n",
    "                with open(json_path, 'r') as f:\n",
    "                    try:\n",
    "                        annotations = json.load(f)\n",
    "                    except json.JSONDecodeError:\n",
    "                        print(f\"Lỗi khi tải JSON: {json_path}\")\n",
    "                        continue\n",
    "\n",
    "                # Lấy các mục frame từ JSON\n",
    "                frames = annotations.get('frames', {})\n",
    "                if not frames:\n",
    "                    print(f\"No frame data found in JSON: {json_path}\")\n",
    "                    continue\n",
    "                \n",
    "                # Lấy đường dẫn tệp ảnh và chú thích valence-arousal từ 'frames'\n",
    "                for image_name in frames:\n",
    "                    # Xử lý tệp ảnh với các phần mở rộng phổ biến như .png và .jpg\n",
    "                    image_path_png = os.path.join(folder_path, f\"{image_name}.png\")\n",
    "                    # image_path_jpg = os.path.join(folder_path, f\"{image_name}.jpg\")\n",
    "\n",
    "                    if os.path.exists(image_path_png):\n",
    "                        image_path = image_path_png\n",
    "                    else:\n",
    "                        print(f\"Tệp ảnh không tồn tại: {image_name} trong {folder_path}\")\n",
    "                        continue\n",
    "                    \n",
    "                    # Load image and append to dataset\n",
    "                    try:\n",
    "                        with Image.open(image_path) as img:\n",
    "                            img = img.convert('RGB')  # Chuyển đổi sang RGB nếu cần\n",
    "                            valence_arousal = frames[image_name]\n",
    "                            self.data.append((img, valence_arousal))\n",
    "                    except Exception as e:\n",
    "                        print(f\"Lỗi khi mở ảnh: {image_path}, {e}\")\n",
    "\n",
    "    def __len__(self):\n",
    "        return len(self.data)\n",
    "\n",
    "    def __getitem__(self, idx):\n",
    "        image, valence_arousal = self.data[idx]\n",
    "        if self.transform:\n",
    "            image = self.transform(image)\n",
    "        \n",
    "        # Extracting valence and arousal from the dictionary\n",
    "        valence = valence_arousal.get('valence', 0.0)\n",
    "        arousal = valence_arousal.get('arousal', 0.0)\n",
    "        \n",
    "        # Returning the image along with valence and arousal as a tensor\n",
    "        return image, torch.tensor([valence, arousal], dtype=torch.float)\n",
    "\n",
    "# Ví dụ cách sử dụng:\n",
    "# dataset = VADataset(root_dir='data/01', transform=None)\n",
    "# dataloader = DataLoader(dataset, batch_size=32, shuffle=True)\n"
   ]
  },
  {
   "cell_type": "code",
   "execution_count": 3,
   "metadata": {},
   "outputs": [
    {
     "name": "stdout",
     "output_type": "stream",
     "text": [
      "Processing folder: data/01\\001\n",
      "Loading JSON file: data/01\\001\\001.json\n",
      "Processing folder: data/01\\002\n",
      "Loading JSON file: data/01\\002\\002.json\n",
      "Processing folder: data/01\\003\n",
      "Loading JSON file: data/01\\003\\003.json\n",
      "Processing folder: data/01\\004\n",
      "Loading JSON file: data/01\\004\\004.json\n",
      "Processing folder: data/01\\005\n",
      "Loading JSON file: data/01\\005\\005.json\n",
      "Processing folder: data/01\\006\n",
      "Loading JSON file: data/01\\006\\006.json\n",
      "Processing folder: data/01\\007\n",
      "Loading JSON file: data/01\\007\\007.json\n",
      "Processing folder: data/01\\008\n",
      "Loading JSON file: data/01\\008\\008.json\n",
      "Processing folder: data/01\\009\n",
      "Loading JSON file: data/01\\009\\009.json\n",
      "Processing folder: data/01\\010\n",
      "Loading JSON file: data/01\\010\\010.json\n",
      "Processing folder: data/01\\011\n",
      "Loading JSON file: data/01\\011\\011.json\n",
      "Processing folder: data/01\\012\n",
      "Loading JSON file: data/01\\012\\012.json\n",
      "Processing folder: data/01\\013\n",
      "Loading JSON file: data/01\\013\\013.json\n",
      "Processing folder: data/01\\014\n",
      "Loading JSON file: data/01\\014\\014.json\n",
      "Processing folder: data/01\\015\n",
      "Loading JSON file: data/01\\015\\015.json\n",
      "Processing folder: data/01\\016\n",
      "Loading JSON file: data/01\\016\\016.json\n",
      "Processing folder: data/01\\017\n",
      "Loading JSON file: data/01\\017\\017.json\n",
      "Processing folder: data/01\\018\n",
      "Loading JSON file: data/01\\018\\018.json\n",
      "Processing folder: data/01\\019\n",
      "Loading JSON file: data/01\\019\\019.json\n",
      "Processing folder: data/01\\020\n",
      "Loading JSON file: data/01\\020\\020.json\n",
      "Processing folder: data/01\\021\n",
      "Loading JSON file: data/01\\021\\021.json\n",
      "Processing folder: data/01\\022\n",
      "Loading JSON file: data/01\\022\\022.json\n",
      "Processing folder: data/01\\023\n",
      "Loading JSON file: data/01\\023\\023.json\n",
      "Processing folder: data/01\\024\n",
      "Loading JSON file: data/01\\024\\024.json\n",
      "Processing folder: data/01\\025\n",
      "Loading JSON file: data/01\\025\\025.json\n"
     ]
    }
   ],
   "source": [
    "root_dir = 'data/01'\n",
    "\n",
    "# Transformations (resize, normalize, etc.)\n",
    "transform = transforms.Compose([\n",
    "    transforms.Resize((224, 224)),\n",
    "    transforms.ToTensor(),\n",
    "    transforms.Normalize(mean=[0.485, 0.456, 0.406], std=[0.229, 0.224, 0.225])\n",
    "])\n",
    "\n",
    "# Instantiate the dataset class and store the data\n",
    "full_dataset = VADataset(root_dir=root_dir, transform=transform)\n",
    "\n",
    "# Split the dataset into training (70%), validation (15%), and test (15%) sets\n",
    "train_size = int(0.7 * len(full_dataset))\n",
    "valid_size = int(0.15 * len(full_dataset))\n",
    "test_size = len(full_dataset) - train_size - valid_size\n",
    "\n",
    "train_data, valid_data, test_data = torch.utils.data.random_split(full_dataset, [train_size, valid_size, test_size])"
   ]
  },
  {
   "cell_type": "code",
   "execution_count": 4,
   "metadata": {},
   "outputs": [],
   "source": [
    "# Create DataLoader for train, validation, and test sets\n",
    "train_loader = DataLoader(train_data, batch_size=32, shuffle=True)\n",
    "valid_loader = DataLoader(valid_data, batch_size=32, shuffle=False)\n",
    "test_loader = DataLoader(test_data, batch_size=32, shuffle=False)\n",
    "\n",
    "# Model architecture (encoder, regressor, and header from the previous code)\n",
    "encoder = encoder_AL()\n",
    "regressor = regressor_AL(latent_dim=256)\n",
    "header = load_ERM_FC(erm_input_dim=256, erm_output_dim=2)  # 2 outputs for Valence and Arousal"
   ]
  },
  {
   "cell_type": "code",
   "execution_count": 5,
   "metadata": {},
   "outputs": [
    {
     "data": {
      "text/plain": [
       "device(type='cuda')"
      ]
     },
     "execution_count": 5,
     "metadata": {},
     "output_type": "execute_result"
    }
   ],
   "source": [
    "# Move models to GPU\n",
    "device = torch.device('cuda' if torch.cuda.is_available() else 'cpu')\n",
    "encoder = encoder.to(device)\n",
    "regressor = regressor.to(device)\n",
    "header = header.to(device)\n",
    "\n",
    "device"
   ]
  },
  {
   "cell_type": "code",
   "execution_count": 6,
   "metadata": {},
   "outputs": [],
   "source": [
    "# Loss function and optimizer\n",
    "criterion = nn.MSELoss()\n",
    "optimizer = optim.Adam(list(regressor.parameters()) + list(header.parameters()), lr=1e-4)"
   ]
  },
  {
   "cell_type": "code",
   "execution_count": 7,
   "metadata": {},
   "outputs": [
    {
     "name": "stdout",
     "output_type": "stream",
     "text": [
      "Epoch [1/10], Train Loss: 9.6161\n",
      "Validation Loss: 4.6263\n",
      "Epoch [2/10], Train Loss: 3.2461\n",
      "Validation Loss: 2.9613\n",
      "Epoch [3/10], Train Loss: 2.1048\n",
      "Validation Loss: 2.0931\n",
      "Epoch [4/10], Train Loss: 1.7912\n",
      "Validation Loss: 2.0585\n",
      "Epoch [5/10], Train Loss: 1.6649\n",
      "Validation Loss: 1.8095\n",
      "Epoch [6/10], Train Loss: 1.5937\n",
      "Validation Loss: 1.4950\n",
      "Epoch [7/10], Train Loss: 1.5589\n",
      "Validation Loss: 1.1908\n",
      "Epoch [8/10], Train Loss: 1.3232\n",
      "Validation Loss: 1.4279\n",
      "Epoch [9/10], Train Loss: 1.4040\n",
      "Validation Loss: 1.4342\n",
      "Epoch [10/10], Train Loss: 1.3547\n",
      "Validation Loss: 1.1531\n"
     ]
    }
   ],
   "source": [
    "# Training loop with validation and recording loss history\n",
    "train_losses = []\n",
    "valid_losses = []\n",
    "\n",
    "num_epochs = 10\n",
    "for epoch in range(num_epochs):\n",
    "    encoder.train()\n",
    "    regressor.train()\n",
    "    header.train()\n",
    "\n",
    "    running_loss = 0.0\n",
    "    for i, (inputs, valence_arousal) in enumerate(train_loader):\n",
    "        inputs = inputs.to(device)\n",
    "        valence, arousal = valence_arousal[:, 0], valence_arousal[:, 1]\n",
    "        valence, arousal = valence.to(device), arousal.to(device)\n",
    "        \n",
    "        optimizer.zero_grad()\n",
    "\n",
    "        # Forward pass through the full model\n",
    "        features = encoder(inputs)\n",
    "        reg_output = regressor(features)\n",
    "        outputs = header(reg_output)\n",
    "\n",
    "        # Compute loss\n",
    "        valence_loss = criterion(outputs[:, 0], valence)\n",
    "        arousal_loss = criterion(outputs[:, 1], arousal)\n",
    "        loss = valence_loss + arousal_loss\n",
    "        \n",
    "        # Backward pass and optimization\n",
    "        loss.backward()\n",
    "        optimizer.step()\n",
    "\n",
    "        running_loss += loss.item()\n",
    "\n",
    "    avg_train_loss = running_loss / len(train_loader)\n",
    "    train_losses.append(avg_train_loss)\n",
    "    print(f'Epoch [{epoch+1}/{num_epochs}], Train Loss: {avg_train_loss:.4f}')\n",
    "\n",
    "    # Validation phase\n",
    "    encoder.eval()\n",
    "    regressor.eval()\n",
    "    header.eval()\n",
    "    valid_loss = 0.0\n",
    "    with torch.no_grad():\n",
    "        for inputs, valence_arousal in valid_loader:\n",
    "            inputs = inputs.to(device)\n",
    "            valence, arousal = valence_arousal[:, 0], valence_arousal[:, 1]\n",
    "            valence, arousal = valence.to(device), arousal.to(device)\n",
    "            \n",
    "            features = encoder(inputs)\n",
    "            reg_output = regressor(features)\n",
    "            outputs = header(reg_output)\n",
    "\n",
    "            valence_loss = criterion(outputs[:, 0], valence)\n",
    "            arousal_loss = criterion(outputs[:, 1], arousal)\n",
    "            loss = valence_loss + arousal_loss\n",
    "\n",
    "            valid_loss += loss.item()\n",
    "\n",
    "    avg_valid_loss = valid_loss / len(valid_loader)\n",
    "    valid_losses.append(avg_valid_loss)\n",
    "    print(f'Validation Loss: {avg_valid_loss:.4f}')"
   ]
  },
  {
   "cell_type": "code",
   "execution_count": 8,
   "metadata": {},
   "outputs": [
    {
     "name": "stdout",
     "output_type": "stream",
     "text": [
      "Test Loss: 1.1198\n"
     ]
    }
   ],
   "source": [
    "# Test the model\n",
    "encoder.eval()\n",
    "regressor.eval()\n",
    "header.eval()\n",
    "test_loss = 0.0\n",
    "with torch.no_grad():\n",
    "    for inputs, valence_arousal in test_loader:\n",
    "        inputs = inputs.to(device)\n",
    "        valence, arousal = valence_arousal[:, 0], valence_arousal[:, 1]\n",
    "        valence, arousal = valence.to(device), arousal.to(device)\n",
    "        \n",
    "        features = encoder(inputs)\n",
    "        reg_output = regressor(features)\n",
    "        outputs = header(reg_output)\n",
    "\n",
    "        valence_loss = criterion(outputs[:, 0], valence)\n",
    "        arousal_loss = criterion(outputs[:, 1], arousal)\n",
    "        loss = valence_loss + arousal_loss\n",
    "\n",
    "        test_loss += loss.item()\n",
    "print(f'Test Loss: {test_loss / len(test_loader):.4f}')"
   ]
  },
  {
   "cell_type": "code",
   "execution_count": 9,
   "metadata": {},
   "outputs": [],
   "source": [
    "# Save the final model\n",
    "torch.save(encoder.state_dict(), 'models/final_encoder.pth')\n",
    "torch.save(regressor.state_dict(), 'models/final_regressor.pth')\n",
    "torch.save(header.state_dict(), 'models/final_header.pth')"
   ]
  },
  {
   "cell_type": "code",
   "execution_count": 10,
   "metadata": {},
   "outputs": [
    {
     "data": {
      "image/png": "[encoded data removed]",
      "text/plain": [
       "<Figure size 1000x600 with 1 Axes>"
      ]
     },
     "metadata": {},
     "output_type": "display_data"
    }
   ],
   "source": [
    "# Plot the training and validation loss over epochs\n",
    "plt.figure(figsize=(10, 6))\n",
    "plt.plot(train_losses, label='Training Loss')\n",
    "plt.plot(valid_losses, label='Validation Loss')\n",
    "plt.xlabel('Epochs')\n",
    "plt.ylabel('Loss')\n",
    "plt.title('Training and Validation Loss Over Epochs')\n",
    "plt.legend()\n",
    "plt.grid(True)\n",
    "plt.show()"
   ]
  }
 ],
 "metadata": {
  "kernelspec": {
   "display_name": "py3119",
   "language": "python",
   "name": "python3"
  },
  "language_info": {
   "codemirror_mode": {
    "name": "ipython",
    "version": 3
   },
   "file_extension": ".py",
   "mimetype": "text/x-python",
   "name": "python",
   "nbconvert_exporter": "python",
   "pygments_lexer": "ipython3",
   "version": "3.11.9"
  }
 },
 "nbformat": 4,
 "nbformat_minor": 2
}
